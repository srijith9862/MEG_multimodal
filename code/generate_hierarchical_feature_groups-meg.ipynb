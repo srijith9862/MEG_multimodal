{
 "cells": [
  {
   "cell_type": "code",
   "execution_count": 1,
   "metadata": {},
   "outputs": [],
   "source": [
    "import numpy as np\n",
    "import torch\n",
    "import os\n",
    "from sklearn.decomposition import PCA\n",
    "\n",
    "features_dir = \"features\""
   ]
  },
  {
   "cell_type": "code",
   "execution_count": 2,
   "metadata": {},
   "outputs": [],
   "source": [
    "bert_context5 = np.load('bert-base-lw-5.npy',allow_pickle=True)"
   ]
  },
  {
   "cell_type": "code",
   "execution_count": 3,
   "metadata": {},
   "outputs": [
    {
     "name": "stdout",
     "output_type": "stream",
     "text": [
      "(668, 768)\n",
      "(1503, 768)\n",
      "(2637, 768)\n",
      "(3753, 768)\n"
     ]
    }
   ],
   "source": [
    "for i in np.arange(4):\n",
    "    print(np.array(bert_context5[i][0]).shape)"
   ]
  },
  {
   "cell_type": "code",
   "execution_count": 4,
   "metadata": {},
   "outputs": [],
   "source": [
    "story_lengths = [0,668,1503,2637,3753]"
   ]
  },
  {
   "cell_type": "markdown",
   "metadata": {},
   "source": [
    "# Concatenate ConTrege Complete with BERT"
   ]
  },
  {
   "cell_type": "code",
   "execution_count": 32,
   "metadata": {},
   "outputs": [
    {
     "name": "stderr",
     "output_type": "stream",
     "text": [
      "<ipython-input-32-3b9aaef5d736>:7: VisibleDeprecationWarning: Creating an ndarray from ragged nested sequences (which is a list-or-tuple of lists-or-tuples-or ndarrays with different lengths or shapes) is deprecated. If you meant to do this, you must specify 'dtype=object' when creating the ndarray.\n",
      "  contrege_context.append(np.array(temp))\n"
     ]
    }
   ],
   "source": [
    "cs_cc = np.load(os.path.join(features_dir, \"contrege_comp_set_0.npy\"))\n",
    "contrege_context = []\n",
    "for i in np.arange(12):\n",
    "    temp = []\n",
    "    for j in np.arange(1,5):\n",
    "        temp.append(np.hstack((cs_cc[story_lengths[j-1]:story_lengths[j-1]+story_lengths[j]], np.array(bert_context5[j-1][i]))))\n",
    "    contrege_context.append(np.array(temp))                                \n",
    "contrege_context = np.array(contrege_context)\n",
    "np.save('bert-base-lw-5-contrege_comp_set_0',contrege_context)"
   ]
  },
  {
   "cell_type": "markdown",
   "metadata": {},
   "source": [
    "# Concatenate ConTrege InComplete with BERT"
   ]
  },
  {
   "cell_type": "code",
   "execution_count": 33,
   "metadata": {},
   "outputs": [
    {
     "name": "stderr",
     "output_type": "stream",
     "text": [
      "<ipython-input-33-8350651f9d11>:7: VisibleDeprecationWarning: Creating an ndarray from ragged nested sequences (which is a list-or-tuple of lists-or-tuples-or ndarrays with different lengths or shapes) is deprecated. If you meant to do this, you must specify 'dtype=object' when creating the ndarray.\n",
      "  contrege_context.append(np.array(temp))\n"
     ]
    }
   ],
   "source": [
    "cs_ci = np.load(os.path.join(features_dir, \"contrege_incomp_set_0.npy\"))\n",
    "contrege_context = []\n",
    "for i in np.arange(12):\n",
    "    temp = []\n",
    "    for j in np.arange(1,5):\n",
    "        temp.append(np.hstack((cs_ci[story_lengths[j-1]:story_lengths[j-1]+story_lengths[j]], np.array(bert_context5[j-1][i]))))\n",
    "    contrege_context.append(np.array(temp))                                \n",
    "contrege_context = np.array(contrege_context)\n",
    "np.save('bert-base-lw-5-contrege_incomp_set_0',contrege_context)"
   ]
  },
  {
   "cell_type": "markdown",
   "metadata": {},
   "source": [
    "# Concatenate InConTrege with BERT"
   ]
  },
  {
   "cell_type": "code",
   "execution_count": 34,
   "metadata": {},
   "outputs": [
    {
     "name": "stderr",
     "output_type": "stream",
     "text": [
      "<ipython-input-34-35af141addff>:7: VisibleDeprecationWarning: Creating an ndarray from ragged nested sequences (which is a list-or-tuple of lists-or-tuples-or ndarrays with different lengths or shapes) is deprecated. If you meant to do this, you must specify 'dtype=object' when creating the ndarray.\n",
      "  contrege_context.append(np.array(temp))\n"
     ]
    }
   ],
   "source": [
    "cs_inc = np.load(os.path.join(features_dir, \"incontrege_set_0.npy\"))\n",
    "contrege_context = []\n",
    "for i in np.arange(12):\n",
    "    temp = []\n",
    "    for j in np.arange(1,5):\n",
    "        temp.append(np.hstack((cs_inc[story_lengths[j-1]:story_lengths[j-1]+story_lengths[j]], np.array(bert_context5[j-1][i]))))\n",
    "    contrege_context.append(np.array(temp))                                \n",
    "contrege_context = np.array(contrege_context)\n",
    "np.save('bert-base-lw-5-incontrege_set_0.npy',contrege_context)"
   ]
  },
  {
   "cell_type": "code",
   "execution_count": 26,
   "metadata": {},
   "outputs": [],
   "source": [
    "cs_cc = np.load(os.path.join(features_dir, \"contrege_comp_set_0.npy\"))"
   ]
  },
  {
   "cell_type": "code",
   "execution_count": 27,
   "metadata": {},
   "outputs": [
    {
     "data": {
      "text/plain": [
       "(8561, 128)"
      ]
     },
     "execution_count": 27,
     "metadata": {},
     "output_type": "execute_result"
    }
   ],
   "source": [
    "cs_cc.shape"
   ]
  },
  {
   "cell_type": "code",
   "execution_count": 28,
   "metadata": {},
   "outputs": [
    {
     "name": "stderr",
     "output_type": "stream",
     "text": [
      "<ipython-input-28-30683d0eb25e>:4: VisibleDeprecationWarning: Creating an ndarray from ragged nested sequences (which is a list-or-tuple of lists-or-tuples-or ndarrays with different lengths or shapes) is deprecated. If you meant to do this, you must specify 'dtype=object' when creating the ndarray.\n",
      "  contrege_complete = np.array(contrege_complete)\n"
     ]
    }
   ],
   "source": [
    "contrege_complete= []\n",
    "for j in np.arange(1,5):\n",
    "    contrege_complete.append((cs_cc[story_lengths[j-1]:story_lengths[j-1]+story_lengths[j]]))                                \n",
    "contrege_complete = np.array(contrege_complete)\n",
    "np.save('contrege_complete',contrege_complete)"
   ]
  },
  {
   "cell_type": "code",
   "execution_count": 22,
   "metadata": {},
   "outputs": [
    {
     "data": {
      "text/plain": [
       "(3753, 128)"
      ]
     },
     "execution_count": 22,
     "metadata": {},
     "output_type": "execute_result"
    }
   ],
   "source": [
    "contrege_complete[3].shape"
   ]
  },
  {
   "cell_type": "code",
   "execution_count": 15,
   "metadata": {},
   "outputs": [],
   "source": [
    "path = './feats/'"
   ]
  },
  {
   "cell_type": "code",
   "execution_count": 16,
   "metadata": {},
   "outputs": [
    {
     "name": "stderr",
     "output_type": "stream",
     "text": [
      "<ipython-input-16-8e5f94807037>:10: VisibleDeprecationWarning: Creating an ndarray from ragged nested sequences (which is a list-or-tuple of lists-or-tuples-or ndarrays with different lengths or shapes) is deprecated. If you meant to do this, you must specify 'dtype=object' when creating the ndarray.\n",
      "  phonological = np.array(phonological)\n"
     ]
    }
   ],
   "source": [
    "count = 0\n",
    "phonological = []\n",
    "for eachfile in sorted(os.listdir(path)):\n",
    "    try:\n",
    "        data = torch.load(path+'story_'+str(count)+'_articulation.t')\n",
    "        count+=1\n",
    "        phonological.append(data.detach().numpy())\n",
    "    except:\n",
    "        continue\n",
    "phonological = np.array(phonological)"
   ]
  },
  {
   "cell_type": "code",
   "execution_count": 17,
   "metadata": {},
   "outputs": [],
   "source": [
    "np.save('articulation',phonological)"
   ]
  },
  {
   "cell_type": "code",
   "execution_count": 19,
   "metadata": {},
   "outputs": [
    {
     "data": {
      "text/plain": [
       "(1503, 488)"
      ]
     },
     "execution_count": 19,
     "metadata": {},
     "output_type": "execute_result"
    }
   ],
   "source": [
    "phonological[1].shape"
   ]
  },
  {
   "cell_type": "code",
   "execution_count": null,
   "metadata": {},
   "outputs": [],
   "source": []
  }
 ],
 "metadata": {
  "kernelspec": {
   "display_name": "Python 3",
   "language": "python",
   "name": "python3"
  },
  "language_info": {
   "codemirror_mode": {
    "name": "ipython",
    "version": 3
   },
   "file_extension": ".py",
   "mimetype": "text/x-python",
   "name": "python",
   "nbconvert_exporter": "python",
   "pygments_lexer": "ipython3",
   "version": "3.8.5"
  }
 },
 "nbformat": 4,
 "nbformat_minor": 2
}
