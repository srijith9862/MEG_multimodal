{
 "cells": [
  {
   "cell_type": "code",
   "execution_count": 1,
   "metadata": {},
   "outputs": [],
   "source": [
    "import torch\n",
    "import numpy as np\n",
    "import argparse\n",
    "import os\n",
    "from transformers import AutoTokenizer, AutoModelForSeq2SeqLM\n",
    "from transformers import RobertaTokenizer, Data2VecTextModel\n",
    "from transformers import LEDModel, LEDConfig\n",
    "from transformers import AutoModelWithLMHead, AutoTokenizer, Data2VecTextModel, T5Tokenizer, LongT5Model, LongT5EncoderModel\n",
    "import nibabel\n",
    "import numpy as np\n",
    "import mne\n",
    "import pandas as pd\n",
    "import mne_bids\n",
    "from transformers import BertTokenizer, BertModel\n",
    "import time as tm"
   ]
  },
  {
   "cell_type": "code",
   "execution_count": 19,
   "metadata": {},
   "outputs": [],
   "source": [
    "def load_data(sub,ses,task):\n",
    "    bids_path = mne_bids.BIDSPath(\n",
    "    subject = sub, session = ses, task=task, datatype= \"meg\",\n",
    "    root = '.')\n",
    "    \n",
    "    raw = mne_bids.read_raw_bids(bids_path)\n",
    "    raw.load_data().filter(0.5, 30.0, n_jobs=1)\n",
    "    \n",
    "    df = raw.annotations.to_data_frame()\n",
    "    df_new = pd.DataFrame(df.description.apply(eval).to_list())\n",
    "    \n",
    "    return df_new"
   ]
  },
  {
   "cell_type": "code",
   "execution_count": 30,
   "metadata": {},
   "outputs": [
    {
     "name": "stdout",
     "output_type": "stream",
     "text": [
      "Extracting SQD Parameters from sub-01/ses-0/meg/sub-01_ses-0_task-0_meg.con...\n",
      "Creating Raw.info structure...\n",
      "Setting channel info structure...\n",
      "Creating Info structure...\n",
      "Ready.\n",
      "Reading events from sub-01/ses-0/meg/sub-01_ses-0_task-0_events.tsv.\n",
      "Reading channel info from sub-01/ses-0/meg/sub-01_ses-0_task-0_channels.tsv.\n",
      "The stimulus channel \"STI 014\" is present in the raw data, but not included in channels.tsv. Removing the channel.\n",
      "Reading 0 ... 395999  =      0.000 ...   395.999 secs...\n",
      "Filtering raw data in 1 contiguous segment\n",
      "Setting up band-pass filter from 0.5 - 30 Hz\n",
      "\n",
      "FIR filter parameters\n",
      "---------------------\n",
      "Designing a one-pass, zero-phase, non-causal bandpass filter:\n",
      "- Windowed time-domain design (firwin) method\n",
      "- Hamming window with 0.0194 passband ripple and 53 dB stopband attenuation\n",
      "- Lower passband edge: 0.50\n",
      "- Lower transition bandwidth: 0.50 Hz (-6 dB cutoff frequency: 0.25 Hz)\n",
      "- Upper passband edge: 30.00 Hz\n",
      "- Upper transition bandwidth: 7.50 Hz (-6 dB cutoff frequency: 33.75 Hz)\n",
      "- Filter length: 6601 samples (6.601 sec)\n",
      "\n",
      "Extracting SQD Parameters from sub-01/ses-0/meg/sub-01_ses-0_task-1_meg.con...\n",
      "Creating Raw.info structure...\n",
      "Setting channel info structure...\n",
      "Creating Info structure...\n",
      "Ready.\n",
      "Reading events from sub-01/ses-0/meg/sub-01_ses-0_task-1_events.tsv.\n",
      "Reading channel info from sub-01/ses-0/meg/sub-01_ses-0_task-1_channels.tsv.\n",
      "The stimulus channel \"STI 014\" is present in the raw data, but not included in channels.tsv. Removing the channel.\n",
      "Reading 0 ... 715999  =      0.000 ...   715.999 secs...\n",
      "Filtering raw data in 1 contiguous segment\n",
      "Setting up band-pass filter from 0.5 - 30 Hz\n",
      "\n",
      "FIR filter parameters\n",
      "---------------------\n",
      "Designing a one-pass, zero-phase, non-causal bandpass filter:\n",
      "- Windowed time-domain design (firwin) method\n",
      "- Hamming window with 0.0194 passband ripple and 53 dB stopband attenuation\n",
      "- Lower passband edge: 0.50\n",
      "- Lower transition bandwidth: 0.50 Hz (-6 dB cutoff frequency: 0.25 Hz)\n",
      "- Upper passband edge: 30.00 Hz\n",
      "- Upper transition bandwidth: 7.50 Hz (-6 dB cutoff frequency: 33.75 Hz)\n",
      "- Filter length: 6601 samples (6.601 sec)\n",
      "\n",
      "Extracting SQD Parameters from sub-01/ses-0/meg/sub-01_ses-0_task-2_meg.con...\n",
      "Creating Raw.info structure...\n",
      "Setting channel info structure...\n",
      "Creating Info structure...\n",
      "Ready.\n",
      "Reading events from sub-01/ses-0/meg/sub-01_ses-0_task-2_events.tsv.\n",
      "Reading channel info from sub-01/ses-0/meg/sub-01_ses-0_task-2_channels.tsv.\n",
      "The stimulus channel \"STI 014\" is present in the raw data, but not included in channels.tsv. Removing the channel.\n",
      "Reading 0 ... 1191999  =      0.000 ...  1191.999 secs...\n",
      "Filtering raw data in 1 contiguous segment\n",
      "Setting up band-pass filter from 0.5 - 30 Hz\n",
      "\n",
      "FIR filter parameters\n",
      "---------------------\n",
      "Designing a one-pass, zero-phase, non-causal bandpass filter:\n",
      "- Windowed time-domain design (firwin) method\n",
      "- Hamming window with 0.0194 passband ripple and 53 dB stopband attenuation\n",
      "- Lower passband edge: 0.50\n",
      "- Lower transition bandwidth: 0.50 Hz (-6 dB cutoff frequency: 0.25 Hz)\n",
      "- Upper passband edge: 30.00 Hz\n",
      "- Upper transition bandwidth: 7.50 Hz (-6 dB cutoff frequency: 33.75 Hz)\n",
      "- Filter length: 6601 samples (6.601 sec)\n",
      "\n",
      "Extracting SQD Parameters from sub-01/ses-0/meg/sub-01_ses-0_task-3_meg.con...\n",
      "Creating Raw.info structure...\n",
      "Setting channel info structure...\n",
      "Creating Info structure...\n",
      "Ready.\n",
      "Reading events from sub-01/ses-0/meg/sub-01_ses-0_task-3_events.tsv.\n",
      "Reading channel info from sub-01/ses-0/meg/sub-01_ses-0_task-3_channels.tsv.\n",
      "The stimulus channel \"STI 014\" is present in the raw data, but not included in channels.tsv. Removing the channel.\n",
      "Reading 0 ... 1868999  =      0.000 ...  1868.999 secs...\n",
      "Filtering raw data in 1 contiguous segment\n",
      "Setting up band-pass filter from 0.5 - 30 Hz\n",
      "\n",
      "FIR filter parameters\n",
      "---------------------\n",
      "Designing a one-pass, zero-phase, non-causal bandpass filter:\n",
      "- Windowed time-domain design (firwin) method\n",
      "- Hamming window with 0.0194 passband ripple and 53 dB stopband attenuation\n",
      "- Lower passband edge: 0.50\n",
      "- Lower transition bandwidth: 0.50 Hz (-6 dB cutoff frequency: 0.25 Hz)\n",
      "- Upper passband edge: 30.00 Hz\n",
      "- Upper transition bandwidth: 7.50 Hz (-6 dB cutoff frequency: 33.75 Hz)\n",
      "- Filter length: 6601 samples (6.601 sec)\n",
      "\n",
      "4\n"
     ]
    }
   ],
   "source": [
    "hp_text = []\n",
    "for i in np.arange(4):\n",
    "    temp = []\n",
    "    dd = load_data('01','0',str(i))\n",
    "    for j in np.arange(dd.shape[0]):\n",
    "        if 'word' in dd['kind'][j]:\n",
    "            temp.append(dd['word'][j])\n",
    "    hp_text.append(temp)\n",
    "print(len(hp_text))"
   ]
  },
  {
   "cell_type": "code",
   "execution_count": 4,
   "metadata": {},
   "outputs": [],
   "source": [
    "# Use GPU if possible\n",
    "device = \"cuda:0\" if torch.cuda.is_available() else \"cpu\"\n",
    "n_total_layers = 12 # total number of layers in model\n",
    "\n",
    "@torch.inference_mode()\n",
    "def get_flan_layer_representations(args, text_array, remove_chars):\n",
    "    seq_len = args.sequence_length\n",
    "    nlp_model = args.nlp_model\n",
    "    word_ind_to_extract = args.word_ind_to_extract\n",
    "\n",
    "    model = BertModel.from_pretrained('bert-base-uncased').to(device)\n",
    "    tokenizer = BertTokenizer.from_pretrained('bert-base-uncased')\n",
    "\n",
    "    #model.config.max_decoder_position_embeddings = 16384    # Process tokens longer than 1024\n",
    "    model.eval()\n",
    "\n",
    "    # get the token embeddings\n",
    "    token_embeddings = []\n",
    "    for word in text_array:\n",
    "        #print(word)\n",
    "        current_token_embedding = get_led_token_embeddings([word], tokenizer, model, remove_chars)\n",
    "        token_embeddings.append(np.mean(current_token_embedding.detach().numpy(), 1))\n",
    "    \n",
    "    # where to store layer-wise led embeddings of particular length\n",
    "    LED = {}\n",
    "    for layer in range(n_total_layers):\n",
    "        LED[layer] = []\n",
    "    LED[-1] = token_embeddings\n",
    "\n",
    "    # Before we've seen enough words to make up the seq_len\n",
    "    # Extract index 0 after supplying tokens 0 to 0, extract 1 after 0 to 1, 2 after 0 to 2, ... , 19 after 0 to 19\n",
    "    start_time = tm.time()\n",
    "    for truncated_seq_len in range(1, 1+seq_len):\n",
    "        word_seq = text_array[:truncated_seq_len]\n",
    "        from_start_word_ind_to_extract = -1 + truncated_seq_len\n",
    "        LED = add_avrg_token_embedding_for_specific_word(word_seq, tokenizer, model, remove_chars, \n",
    "                                                            from_start_word_ind_to_extract, LED)\n",
    "        if truncated_seq_len % 100 == 0:\n",
    "            print('Completed {} out of {}: {}'.format(truncated_seq_len, len(text_array), tm.time()-start_time))\n",
    "            start_time = tm.time()\n",
    "\n",
    "    word_seq = text_array[:seq_len]\n",
    "    if word_ind_to_extract < 0: # the index is specified from the end of the array, so invert the index\n",
    "        from_start_word_ind_to_extract = seq_len + word_ind_to_extract\n",
    "    else:\n",
    "        from_start_word_ind_to_extract = word_ind_to_extract\n",
    "        \n",
    "    # Then, use sequences of length seq_len, still adding the embedding of the last word in a sequence\n",
    "    for end_curr_seq in range(seq_len, len(text_array)):\n",
    "        word_seq = text_array[end_curr_seq-seq_len+1:end_curr_seq+1]\n",
    "        LED = add_avrg_token_embedding_for_specific_word(word_seq, tokenizer, model, remove_chars,\n",
    "                                                            from_start_word_ind_to_extract, LED)\n",
    "\n",
    "        if end_curr_seq % 100 == 0:\n",
    "            print('Completed {} out of {}: {}'.format(end_curr_seq, len(text_array), tm.time()-start_time))\n",
    "            start_time = tm.time()\n",
    "\n",
    "    print('Done extracting sequences of length {}'.format(seq_len))\n",
    "    return LED\n",
    "\n",
    "# extracts layer representations for all words in words_in_array\n",
    "# encoded_layers: list of tensors, length num layers. each tensor of dims num tokens by num dimensions in representation\n",
    "# word_ind_to_token_ind: dict that maps from index in words_in_array to index in array of tokens when words_in_array is tokenized,\n",
    "#                       with keys: index of word, and values: array of indices of corresponding tokens when word is tokenized\n",
    "@torch.inference_mode()\n",
    "def predict_led_embeddings(words_in_array, tokenizer, model, remove_chars):    \n",
    "    for word in words_in_array:\n",
    "        if word in remove_chars:\n",
    "            print('An input word is also in remove_chars. This word will be removed and may lead to misalignment. Proceed with caution.')\n",
    "            return -1\n",
    "    \n",
    "    n_seq_tokens = 0\n",
    "    seq_tokens = []\n",
    "    \n",
    "    word_ind_to_token_ind = {}             # dict that maps index of word in words_in_array to index of tokens in seq_tokens\n",
    "    \n",
    "    for i,word in enumerate(words_in_array):\n",
    "        word_ind_to_token_ind[i] = []      # initialize token indices array for current word\n",
    "        word_tokens = tokenizer.tokenize(word)\n",
    "            \n",
    "        for token in word_tokens:\n",
    "            if token not in remove_chars:  # don't add any tokens that are in remove_chars\n",
    "                seq_tokens.append(token)\n",
    "                word_ind_to_token_ind[i].append(n_seq_tokens)\n",
    "                n_seq_tokens = n_seq_tokens + 1\n",
    "    \n",
    "    # convert token to vocabulary indices\n",
    "    indexed_tokens = tokenizer.convert_tokens_to_ids(seq_tokens)\n",
    "    tokens_tensor = torch.tensor([indexed_tokens]).to(device)\n",
    "\n",
    "    # Use local attention, do not use global attention\n",
    "    # attention_mask = torch.ones(tokens_tensor.shape, dtype=torch.long, device=tokens_tensor.device)\n",
    "    # global_attention_mask = torch.zeros(tokens_tensor.shape, dtype=torch.long, device=tokens_tensor.device)\n",
    "\n",
    "    outputs = model(tokens_tensor, output_hidden_states=True)\n",
    "    encoder_hidden_states = outputs['hidden_states'][1:]    # This is a tuple: (layer1, layer2, ..., layer6)\n",
    "    all_layers_hidden_states = encoder_hidden_states\n",
    "    \n",
    "    return all_layers_hidden_states, word_ind_to_token_ind, None\n",
    "  \n",
    "# add the embeddings for a specific word in the sequence\n",
    "# token_inds_to_avrg: indices of tokens in embeddings output to avrg\n",
    "@torch.inference_mode()\n",
    "def add_word_led_embedding(model_dict, embeddings_to_add, token_inds_to_avrg, specific_layer=-1):\n",
    "    if specific_layer >= 0:  # only add embeddings for one specified layer\n",
    "        layer_embedding = embeddings_to_add[specific_layer]\n",
    "        full_sequence_embedding = layer_embedding.cpu().detach().numpy()\n",
    "        model_dict[specific_layer].append(np.mean(full_sequence_embedding[0,token_inds_to_avrg,:],0))\n",
    "    else:\n",
    "        for layer, layer_embedding in enumerate(embeddings_to_add):\n",
    "            full_sequence_embedding = layer_embedding.cpu().detach().numpy()\n",
    "            model_dict[layer].append(np.mean(full_sequence_embedding[0,token_inds_to_avrg,:],0)) # avrg over all tokens for specified word\n",
    "    return model_dict\n",
    "\n",
    "# predicts representations for specific word in input word sequence, and adds to existing layer-wise dictionary\n",
    "#\n",
    "# word_seq: numpy array of words in input sequence\n",
    "# tokenizer: LED tokenizer\n",
    "# model: LED model\n",
    "# remove_chars: characters that should not be included in the represention when word_seq is tokenized\n",
    "# from_start_word_ind_to_extract: the index of the word whose features to extract, INDEXED FROM START OF WORD_SEQ\n",
    "# model_dict: where to save the extracted embeddings\n",
    "@torch.inference_mode()\n",
    "def add_avrg_token_embedding_for_specific_word(word_seq,tokenizer,model,remove_chars,from_start_word_ind_to_extract,model_dict):\n",
    "    \n",
    "    word_seq = list(word_seq)\n",
    "    all_sequence_embeddings, word_ind_to_token_ind, _ = predict_led_embeddings(word_seq, tokenizer, model, remove_chars)\n",
    "    token_inds_to_avrg = word_ind_to_token_ind[from_start_word_ind_to_extract]\n",
    "    model_dict = add_word_led_embedding(model_dict, all_sequence_embeddings,token_inds_to_avrg)\n",
    "    \n",
    "    return model_dict\n",
    "\n",
    "\n",
    "# get the LED token embeddings\n",
    "@torch.inference_mode()\n",
    "def get_led_token_embeddings(words_in_array, tokenizer, model, remove_chars):    \n",
    "    for word in words_in_array:\n",
    "        if word in remove_chars:\n",
    "            print('An input word is also in remove_chars. This word will be removed and may lead to misalignment. Proceed with caution.')\n",
    "            return -1\n",
    "    \n",
    "    n_seq_tokens = 0\n",
    "    seq_tokens = []\n",
    "    \n",
    "    word_ind_to_token_ind = {}             # dict that maps index of word in words_in_array to index of tokens in seq_tokens\n",
    "    \n",
    "    for i,word in enumerate(words_in_array):\n",
    "        word_ind_to_token_ind[i] = []      # initialize token indices array for current word\n",
    "        word_tokens = tokenizer.tokenize(word)\n",
    "        #print(word)\n",
    "        for token in word_tokens:\n",
    "            if token not in remove_chars:  # don't add any tokens that are in remove_chars\n",
    "                seq_tokens.append(token)\n",
    "                word_ind_to_token_ind[i].append(n_seq_tokens)\n",
    "                n_seq_tokens = n_seq_tokens + 1\n",
    "    \n",
    "    # convert token to vocabulary indices\n",
    "    indexed_tokens = tokenizer.convert_tokens_to_ids(seq_tokens)\n",
    "    tokens_tensor = torch.tensor([indexed_tokens]).to(device)\n",
    "    \n",
    "    # outputs = model(tokens_tensor, output_hidden_states=True)\n",
    "    # hidden_states = outputs['encoder_hidden_states']\n",
    "    # token_embeddings = hidden_states[0].cpu()\n",
    "    \n",
    "    input_embedding_module = model.base_model.get_input_embeddings()\n",
    "    token_embeddings = input_embedding_module(tokens_tensor).cpu()\n",
    "    \n",
    "    return token_embeddings"
   ]
  },
  {
   "cell_type": "code",
   "execution_count": 5,
   "metadata": {},
   "outputs": [],
   "source": [
    "class Args:\n",
    "  sequence_length = 1\n",
    "  nlp_model = 'bert'\n",
    "  word_ind_to_extract = -1\n",
    "\n",
    "args=Args()"
   ]
  },
  {
   "cell_type": "code",
   "execution_count": 6,
   "metadata": {},
   "outputs": [
    {
     "data": {
      "application/vnd.jupyter.widget-view+json": {
       "model_id": "b5067864de7a4082a3520e190a445ef4",
       "version_major": 2,
       "version_minor": 0
      },
      "text/plain": [
       "Downloading config.json:   0%|          | 0.00/570 [00:00<?, ?B/s]"
      ]
     },
     "metadata": {},
     "output_type": "display_data"
    },
    {
     "data": {
      "application/vnd.jupyter.widget-view+json": {
       "model_id": "fa33353ec2b74862ad5906df4a9150fa",
       "version_major": 2,
       "version_minor": 0
      },
      "text/plain": [
       "Downloading pytorch_model.bin:   0%|          | 0.00/420M [00:00<?, ?B/s]"
      ]
     },
     "metadata": {},
     "output_type": "display_data"
    },
    {
     "name": "stderr",
     "output_type": "stream",
     "text": [
      "Some weights of the model checkpoint at bert-base-uncased were not used when initializing BertModel: ['cls.predictions.transform.LayerNorm.weight', 'cls.predictions.decoder.weight', 'cls.seq_relationship.weight', 'cls.predictions.transform.dense.weight', 'cls.seq_relationship.bias', 'cls.predictions.bias', 'cls.predictions.transform.LayerNorm.bias', 'cls.predictions.transform.dense.bias']\n",
      "- This IS expected if you are initializing BertModel from the checkpoint of a model trained on another task or with another architecture (e.g. initializing a BertForSequenceClassification model from a BertForPreTraining model).\n",
      "- This IS NOT expected if you are initializing BertModel from the checkpoint of a model that you expect to be exactly identical (initializing a BertForSequenceClassification model from a BertForSequenceClassification model).\n"
     ]
    },
    {
     "data": {
      "application/vnd.jupyter.widget-view+json": {
       "model_id": "27726e8309c3476fbc5c0fc894e93a29",
       "version_major": 2,
       "version_minor": 0
      },
      "text/plain": [
       "Downloading vocab.txt:   0%|          | 0.00/226k [00:00<?, ?B/s]"
      ]
     },
     "metadata": {},
     "output_type": "display_data"
    },
    {
     "data": {
      "application/vnd.jupyter.widget-view+json": {
       "model_id": "86ef570e04d640c181c3a72a0a86cda4",
       "version_major": 2,
       "version_minor": 0
      },
      "text/plain": [
       "Downloading tokenizer_config.json:   0%|          | 0.00/28.0 [00:00<?, ?B/s]"
      ]
     },
     "metadata": {},
     "output_type": "display_data"
    },
    {
     "name": "stdout",
     "output_type": "stream",
     "text": [
      "Completed 100 out of 668: 1.399217128753662\n",
      "Completed 200 out of 668: 1.3469383716583252\n",
      "Completed 300 out of 668: 1.3655664920806885\n",
      "Completed 400 out of 668: 1.3503355979919434\n",
      "Completed 500 out of 668: 1.3467202186584473\n",
      "Completed 600 out of 668: 1.362833023071289\n",
      "Done extracting sequences of length 1\n"
     ]
    },
    {
     "name": "stderr",
     "output_type": "stream",
     "text": [
      "Some weights of the model checkpoint at bert-base-uncased were not used when initializing BertModel: ['cls.predictions.transform.LayerNorm.weight', 'cls.predictions.decoder.weight', 'cls.seq_relationship.weight', 'cls.predictions.transform.dense.weight', 'cls.seq_relationship.bias', 'cls.predictions.bias', 'cls.predictions.transform.LayerNorm.bias', 'cls.predictions.transform.dense.bias']\n",
      "- This IS expected if you are initializing BertModel from the checkpoint of a model trained on another task or with another architecture (e.g. initializing a BertForSequenceClassification model from a BertForPreTraining model).\n",
      "- This IS NOT expected if you are initializing BertModel from the checkpoint of a model that you expect to be exactly identical (initializing a BertForSequenceClassification model from a BertForSequenceClassification model).\n"
     ]
    },
    {
     "name": "stdout",
     "output_type": "stream",
     "text": [
      "Completed 100 out of 1503: 1.3597815036773682\n",
      "Completed 200 out of 1503: 1.347973346710205\n",
      "Completed 300 out of 1503: 1.3455619812011719\n",
      "Completed 400 out of 1503: 1.3594717979431152\n",
      "Completed 500 out of 1503: 1.351874589920044\n",
      "Completed 600 out of 1503: 1.353492021560669\n",
      "Completed 700 out of 1503: 1.3442163467407227\n",
      "Completed 800 out of 1503: 1.511685848236084\n",
      "Completed 900 out of 1503: 1.4247384071350098\n",
      "Completed 1000 out of 1503: 1.3523576259613037\n",
      "Completed 1100 out of 1503: 1.3529870510101318\n",
      "Completed 1200 out of 1503: 1.354715347290039\n",
      "Completed 1300 out of 1503: 1.3474516868591309\n",
      "Completed 1400 out of 1503: 1.345583438873291\n",
      "Completed 1500 out of 1503: 1.343193769454956\n",
      "Done extracting sequences of length 1\n"
     ]
    },
    {
     "name": "stderr",
     "output_type": "stream",
     "text": [
      "Some weights of the model checkpoint at bert-base-uncased were not used when initializing BertModel: ['cls.predictions.transform.LayerNorm.weight', 'cls.predictions.decoder.weight', 'cls.seq_relationship.weight', 'cls.predictions.transform.dense.weight', 'cls.seq_relationship.bias', 'cls.predictions.bias', 'cls.predictions.transform.LayerNorm.bias', 'cls.predictions.transform.dense.bias']\n",
      "- This IS expected if you are initializing BertModel from the checkpoint of a model trained on another task or with another architecture (e.g. initializing a BertForSequenceClassification model from a BertForPreTraining model).\n",
      "- This IS NOT expected if you are initializing BertModel from the checkpoint of a model that you expect to be exactly identical (initializing a BertForSequenceClassification model from a BertForSequenceClassification model).\n"
     ]
    },
    {
     "name": "stdout",
     "output_type": "stream",
     "text": [
      "Completed 100 out of 2637: 1.346876859664917\n",
      "Completed 200 out of 2637: 1.3412630558013916\n",
      "Completed 300 out of 2637: 1.3762388229370117\n",
      "Completed 400 out of 2637: 1.419646978378296\n",
      "Completed 500 out of 2637: 1.4194800853729248\n",
      "Completed 600 out of 2637: 1.3756885528564453\n",
      "Completed 700 out of 2637: 1.359513282775879\n",
      "Completed 800 out of 2637: 1.3425087928771973\n",
      "Completed 900 out of 2637: 1.3613500595092773\n",
      "Completed 1000 out of 2637: 1.359632968902588\n",
      "Completed 1100 out of 2637: 1.3953850269317627\n",
      "Completed 1200 out of 2637: 1.3873302936553955\n",
      "Completed 1300 out of 2637: 1.3499808311462402\n",
      "Completed 1400 out of 2637: 1.3530170917510986\n",
      "Completed 1500 out of 2637: 1.3516511917114258\n",
      "Completed 1600 out of 2637: 1.3597064018249512\n",
      "Completed 1700 out of 2637: 1.3430299758911133\n",
      "Completed 1800 out of 2637: 1.3423831462860107\n",
      "Completed 1900 out of 2637: 1.3426826000213623\n",
      "Completed 2000 out of 2637: 1.339010238647461\n",
      "Completed 2100 out of 2637: 1.3505308628082275\n",
      "Completed 2200 out of 2637: 1.3523921966552734\n",
      "Completed 2300 out of 2637: 1.3563246726989746\n",
      "Completed 2400 out of 2637: 1.35603666305542\n",
      "Completed 2500 out of 2637: 1.3464162349700928\n",
      "Completed 2600 out of 2637: 1.3516912460327148\n",
      "Done extracting sequences of length 1\n"
     ]
    },
    {
     "name": "stderr",
     "output_type": "stream",
     "text": [
      "Some weights of the model checkpoint at bert-base-uncased were not used when initializing BertModel: ['cls.predictions.transform.LayerNorm.weight', 'cls.predictions.decoder.weight', 'cls.seq_relationship.weight', 'cls.predictions.transform.dense.weight', 'cls.seq_relationship.bias', 'cls.predictions.bias', 'cls.predictions.transform.LayerNorm.bias', 'cls.predictions.transform.dense.bias']\n",
      "- This IS expected if you are initializing BertModel from the checkpoint of a model trained on another task or with another architecture (e.g. initializing a BertForSequenceClassification model from a BertForPreTraining model).\n",
      "- This IS NOT expected if you are initializing BertModel from the checkpoint of a model that you expect to be exactly identical (initializing a BertForSequenceClassification model from a BertForSequenceClassification model).\n"
     ]
    },
    {
     "name": "stdout",
     "output_type": "stream",
     "text": [
      "Completed 100 out of 3753: 1.3588776588439941\n",
      "Completed 200 out of 3753: 1.3577420711517334\n",
      "Completed 300 out of 3753: 1.3467872142791748\n",
      "Completed 400 out of 3753: 1.3544151782989502\n",
      "Completed 500 out of 3753: 1.356539011001587\n",
      "Completed 600 out of 3753: 1.3576021194458008\n",
      "Completed 700 out of 3753: 1.3502635955810547\n",
      "Completed 800 out of 3753: 1.3544859886169434\n",
      "Completed 900 out of 3753: 1.357879877090454\n",
      "Completed 1000 out of 3753: 1.3583426475524902\n",
      "Completed 1100 out of 3753: 1.3613770008087158\n",
      "Completed 1200 out of 3753: 1.3557183742523193\n",
      "Completed 1300 out of 3753: 1.3491754531860352\n",
      "Completed 1400 out of 3753: 1.3537936210632324\n",
      "Completed 1500 out of 3753: 1.3499467372894287\n",
      "Completed 1600 out of 3753: 1.356706142425537\n",
      "Completed 1700 out of 3753: 1.360685110092163\n",
      "Completed 1800 out of 3753: 1.3628175258636475\n",
      "Completed 1900 out of 3753: 1.3625361919403076\n",
      "Completed 2000 out of 3753: 1.3630704879760742\n",
      "Completed 2100 out of 3753: 1.371767520904541\n",
      "Completed 2200 out of 3753: 1.3695178031921387\n",
      "Completed 2300 out of 3753: 1.3669917583465576\n",
      "Completed 2400 out of 3753: 1.3608222007751465\n",
      "Completed 2500 out of 3753: 1.3711574077606201\n",
      "Completed 2600 out of 3753: 1.3702058792114258\n",
      "Completed 2700 out of 3753: 1.372321367263794\n",
      "Completed 2800 out of 3753: 1.603468656539917\n",
      "Completed 2900 out of 3753: 1.61258864402771\n",
      "Completed 3000 out of 3753: 1.6094210147857666\n",
      "Completed 3100 out of 3753: 1.610081672668457\n",
      "Completed 3200 out of 3753: 1.6173462867736816\n",
      "Completed 3300 out of 3753: 1.5466160774230957\n",
      "Completed 3400 out of 3753: 1.5134162902832031\n",
      "Completed 3500 out of 3753: 1.5170321464538574\n",
      "Completed 3600 out of 3753: 1.5023446083068848\n",
      "Completed 3700 out of 3753: 1.5155644416809082\n",
      "Done extracting sequences of length 1\n"
     ]
    }
   ],
   "source": [
    "#text_array = np.load(os.getcwd() + '/stimuli_words.npy')\n",
    "remove_chars = [\",\",\"\\\"\",\"@\"]\n",
    "embeddings = []\n",
    "for i in np.arange(4):\n",
    "    temp = get_flan_layer_representations(args,hp_text[i],remove_chars)\n",
    "    embeddings.append(temp)"
   ]
  },
  {
   "cell_type": "code",
   "execution_count": 8,
   "metadata": {},
   "outputs": [],
   "source": [
    "np.save(\"bert-base-lw-\"+str(args.sequence_length), embeddings)"
   ]
  },
  {
   "cell_type": "code",
   "execution_count": 26,
   "metadata": {},
   "outputs": [
    {
     "data": {
      "text/plain": [
       "[]"
      ]
     },
     "execution_count": 26,
     "metadata": {},
     "output_type": "execute_result"
    }
   ],
   "source": [
    "hp_text[0][0:10]"
   ]
  },
  {
   "cell_type": "code",
   "execution_count": 3,
   "metadata": {},
   "outputs": [],
   "source": [
    "hp_text = np.load(\"words-allstories.npy\", allow_pickle=True)"
   ]
  },
  {
   "cell_type": "code",
   "execution_count": null,
   "metadata": {},
   "outputs": [],
   "source": []
  }
 ],
 "metadata": {
  "kernelspec": {
   "display_name": "Python 3",
   "language": "python",
   "name": "python3"
  },
  "language_info": {
   "codemirror_mode": {
    "name": "ipython",
    "version": 3
   },
   "file_extension": ".py",
   "mimetype": "text/x-python",
   "name": "python",
   "nbconvert_exporter": "python",
   "pygments_lexer": "ipython3",
   "version": "3.8.5"
  }
 },
 "nbformat": 4,
 "nbformat_minor": 4
}
